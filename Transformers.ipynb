{
 "cells": [
  {
   "cell_type": "code",
   "execution_count": 13,
   "id": "f347c0f3",
   "metadata": {},
   "outputs": [
    {
     "name": "stdout",
     "output_type": "stream",
     "text": [
      "mps\n"
     ]
    }
   ],
   "source": [
    "import torch\n",
    "import torch.nn as nn\n",
    "from torch.nn import functional as F\n",
    "import time\n",
    "import numpy as np\n",
    "device = torch.device(\"mps\")\n",
    "print(device)\n",
    "\n",
    "block_size = 8\n",
    "batch_size = 16\n",
    "max_iters = 3000\n",
    "#eval_interval = 2500\n",
    "learning_rate = 3e-4 # 3e-3, 3e-4, 1e-3, 1e-4\n",
    "eval_iters = 100\n",
    "dropout = 0.2\n",
    "n_embd = 384\n",
    "n_layer = 8\n",
    "n_head = 8"
   ]
  },
  {
   "cell_type": "markdown",
   "id": "7a3eb5d2",
   "metadata": {},
   "source": [
    "#### dataloader"
   ]
  },
  {
   "cell_type": "code",
   "execution_count": 14,
   "id": "0be937f9",
   "metadata": {},
   "outputs": [],
   "source": [
    "chars = \"\"\n",
    "with open('wizard_of_oz.txt', 'r', encoding='utf-8') as f:\n",
    "    text = f.read()\n",
    "    chars = sorted(set(text))\n",
    "    \n",
    "vocab_size = len(chars)"
   ]
  },
  {
   "cell_type": "markdown",
   "id": "e1add0d1",
   "metadata": {},
   "source": [
    "#### tokenizer"
   ]
  },
  {
   "cell_type": "code",
   "execution_count": 15,
   "id": "587ffc96",
   "metadata": {},
   "outputs": [],
   "source": [
    "string_to_int = {ch:i for i, ch in enumerate(chars)}\n",
    "int_to_string = {i:ch for i, ch in enumerate(chars)}\n",
    "\n",
    "# encoding-decoding tokenizer (character level)\n",
    "encode = lambda s: [string_to_int[c] for c in s]\n",
    "decode = lambda l: ''.join([int_to_string[i] for i in l])\n",
    "\n",
    "data = torch.tensor(encode(text), dtype=torch.long)"
   ]
  },
  {
   "cell_type": "code",
   "execution_count": 16,
   "id": "785808ab",
   "metadata": {},
   "outputs": [],
   "source": [
    "n = int(0.9*len(data))\n",
    "train_data = data[:n]\n",
    "val_data = data[n:]\n",
    "\n",
    "def get_batch(split):\n",
    "    data = train_data if split == \"train\" else val_data\n",
    "    ix = torch.randint(len(data) - block_size, (batch_size,))\n",
    "    x = torch.stack([data[i:i+block_size] for i in ix])\n",
    "    y = torch.stack([data[i+1:i+block_size+1] for i in ix])\n",
    "    return x.to(device), y.to(device)"
   ]
  },
  {
   "cell_type": "code",
   "execution_count": 17,
   "id": "0f908a05",
   "metadata": {},
   "outputs": [],
   "source": [
    "@torch.no_grad() # decorator that doesnt allow gradient calc\n",
    "def estimate_loss():\n",
    "    out = {}\n",
    "    model.eval() # dropout is turned off at evaluation\n",
    "    for split in ['train', 'val']:\n",
    "        losses = torch.zeros(eval_iters)\n",
    "        for k in range(eval_iters):\n",
    "            X, Y = get_batch(split)\n",
    "            logits, loss = model(X, Y)\n",
    "            losses[k] = loss.item()\n",
    "        out[split] = losses.mean()\n",
    "    model.train()\n",
    "    return out"
   ]
  },
  {
   "cell_type": "code",
   "execution_count": 18,
   "id": "ab45f0d1",
   "metadata": {},
   "outputs": [],
   "source": [
    "class Head(nn.Module):\n",
    "    \"\"\" one head of self-attention \"\"\"\n",
    "    \n",
    "    def __init__(self, head_size):\n",
    "        super().__init__()\n",
    "        self.key = nn.Linear(n_embd, head_size, bias=False)\n",
    "        self.query = nn.Linear(n_embd, head_size, bias=False)\n",
    "        self.value = nn.Linear(n_embd, head_size, bias=False)\n",
    "        self.register_buffer('tril', torch.tril(torch.ones(block_size, block_size)))\n",
    "        self.dropout = nn.Dropout(dropout)\n",
    "    \n",
    "    def forward(self, x):\n",
    "        B, T, C = x.shape\n",
    "        k = self.key(x)\n",
    "        q = self.query(x)\n",
    "        wei = q @ k.transpose(-2, -1) * k.shape[-1]**-0.5  # (B, T, hs) -> (B, T, T)\n",
    "\n",
    "        # Dynamically create the lower triangular mask based on the current sequence length\n",
    "        tril_mask = torch.tril(torch.ones(T, T, device=x.device))\n",
    "        wei = wei.masked_fill(tril_mask == 0, float('-inf'))  # (B, T, T)\n",
    "\n",
    "        wei = F.softmax(wei, dim=-1)\n",
    "        wei = self.dropout(wei)\n",
    "\n",
    "        v = self.value(x)  # (B, T, hs)\n",
    "        out = wei @ v  # (B, T, T) @ (B, T, hs) -> (B, T, hs)\n",
    "        return out\n",
    "\n",
    "    \n",
    "#     def forward(self, x):\n",
    "#         # input of size (batch, time-step, channel)\n",
    "#         # output of size (batch, time-step, head size)\n",
    "#         B,T,C = x.shape\n",
    "#         k = self.key(x)\n",
    "#         q = self.query(x)\n",
    "#         # compute attention scores (\"affinities\")\n",
    "#         wei = q @ k.transpose(-2,-1) * k.shape[-1]**-0.5 # (B,T,hs) -> (B, T, T)\n",
    "#         wei = wei.masked_fill(self.tril[:T, :T] == 0, float('-inf')) # (B,T,T)\n",
    "#         wei = F.softmax(wei, dim=-1) #(B,T,T)\n",
    "#         wei = self.dropout(wei)\n",
    "#         # perform the weighted aggregation of the value\n",
    "#         v = self.value(x) # (B,T,hs)\n",
    "#         out = wei @ v # (B,T,T) @ (B,T,hs) -> (B,T,hs)\n",
    "#         return out\n",
    "\n",
    "\n",
    "class MultiHeadAttention(nn.Module):\n",
    "    \"\"\" multiple head of self.attention is parallel \"\"\"\n",
    "    def __init__(self, num_heads, head_size):\n",
    "        super().__init__()\n",
    "        self.heads = nn.ModuleList([Head(head_size) for _ in range(num_heads)])\n",
    "        self.proj = nn.Linear(head_size * num_heads, n_embd)\n",
    "        self.dropout = nn.Dropout(dropout)\n",
    "    \n",
    "    def forward(self, x):\n",
    "        # (B, T, Feature) --> (B, T, [h1,h1,h1,h1,h2,h2,h2,h2,h3,h3,h3,h3])\n",
    "        out = torch.cat([h(x) for h in self.heads], dim=-1) \n",
    "        out = self.dropout(self.proj(out))\n",
    "        return out \n",
    "\n",
    "class FeedForward(nn.Module):\n",
    "    \"\"\" a simple linear layer followed by a non-linearity \"\"\"\n",
    "    def __init__(self, n_embd):\n",
    "        super().__init__()\n",
    "        self.net = nn.Sequential(\n",
    "            nn.Linear(n_embd, 4 * n_embd),\n",
    "            nn.ReLU(),\n",
    "            nn.Linear(4 * n_embd, n_embd),\n",
    "            nn.Dropout(dropout)\n",
    "        )\n",
    "    \n",
    "    def forward(self, x):\n",
    "        return self.net(x)\n",
    "\n",
    "class Block(nn.Module):\n",
    "    \"\"\" Transformer block: communication followed by computation \"\"\"\n",
    "    def __init__(self, n_embd, n_head):\n",
    "        super().__init__()\n",
    "        head_size = n_embd // n_head\n",
    "        self.sa = MultiHeadAttention(n_head, head_size)\n",
    "        self.ffwd = FeedForward(n_embd)\n",
    "        self.ln1 = nn.LayerNorm(n_embd)\n",
    "        self.ln2 = nn.LayerNorm(n_embd)\n",
    "        \n",
    "    def forward(self, x):\n",
    "        y = self.sa(x)\n",
    "        x = self.ln1(x + y)\n",
    "        y = self.ffwd(x)\n",
    "        x = self.ln2(x + y)\n",
    "        return x\n",
    "\n",
    "class GPTLanguageModel(nn.Module):\n",
    "    def __init__(self, vocab_size):\n",
    "        super().__init__()\n",
    "        self.token_embedding_table = nn.Embedding(vocab_size, n_embd)\n",
    "        self.position_embedding_table = nn.Embedding(block_size, n_embd)\n",
    "        self.blocks = nn.Sequential(*[Block(n_embd, n_head=n_head) for _ in range(n_layer)])\n",
    "        \n",
    "        self.ln_f = nn.LayerNorm(n_embd) # final norm layer\n",
    "        self.lm_head = nn.Linear(n_embd, vocab_size)\n",
    "        \n",
    "        self.apply(self._init_weights)\n",
    "        \n",
    "    def _init_weights(self, module):\n",
    "        if isinstance(module, nn.Linear):\n",
    "            torch.nn.init.normal_(module.weight, mean=0.0, std=0.02)\n",
    "            if module.bias is not None:\n",
    "                torch.nn.init.zeros_(module.bias)\n",
    "        elif isinstance(module, nn.Embedding):\n",
    "            torch.nn.init.normal_(module.weight, mean=0.0, std=0.02)\n",
    "                \n",
    "        \n",
    "    def forward(self, index, targets=None):\n",
    "        B, T = index.shape\n",
    "        # idx and targets are both (B, T) tensor of integers\n",
    "        tok_emb = self.token_embedding_table(index) #(B,T,C)\n",
    "        pos_emb = self.position_embedding_table(torch.arange(T, device=device)) # (T,C)\n",
    "        x = tok_emb + pos_emb\n",
    "        x = self.blocks(x)\n",
    "        x = self.ln_f(x)\n",
    "        logits = self.lm_head(x)\n",
    "        \n",
    "        \n",
    "        if targets is None:\n",
    "            loss = None\n",
    "        else:\n",
    "            B, T, C = logits.shape\n",
    "            logits = logits.view(B*T, C)\n",
    "            targets = targets.view(B*T)\n",
    "            loss = F.cross_entropy(logits, targets)\n",
    "        \n",
    "        return logits, loss\n",
    "    \n",
    "    def generate(self, index, max_new_tokens):\n",
    "        # index is (B,T) array of indices in the current context\n",
    "        for _ in range(max_new_tokens):\n",
    "            # get the predictions\n",
    "            logits, loss = self.forward(index)\n",
    "            #focus only on the last time step\n",
    "            logits = logits[:, -1, :] # becomes (B, C)\n",
    "            # apply softmax to get probabilities\n",
    "            probs = F.softmax(logits, dim=-1) # (B,C)\n",
    "            # sample from the distribution\n",
    "            index_next = torch.multinomial(probs, num_samples=1) # (B, 1)\n",
    "            # append sample index to the running sequence\n",
    "            index = torch.cat((index, index_next), dim=1) # (B, T+1)\n",
    "        return index"
   ]
  },
  {
   "cell_type": "code",
   "execution_count": 19,
   "id": "452249ae",
   "metadata": {},
   "outputs": [],
   "source": [
    "model = GPTLanguageModel(vocab_size)\n",
    "m = model.to(device)"
   ]
  },
  {
   "cell_type": "code",
   "execution_count": 20,
   "id": "54bad05f",
   "metadata": {},
   "outputs": [
    {
     "name": "stdout",
     "output_type": "stream",
     "text": [
      "step: 0, train loss: 4.4426, val loss: 4.4430\n",
      "step: 100, train loss: 2.5108, val loss: 2.5565\n",
      "step: 200, train loss: 2.3802, val loss: 2.4197\n",
      "step: 300, train loss: 2.2892, val loss: 2.3394\n",
      "step: 400, train loss: 2.2377, val loss: 2.3093\n",
      "step: 500, train loss: 2.2054, val loss: 2.2537\n",
      "step: 600, train loss: 2.1299, val loss: 2.2460\n",
      "step: 700, train loss: 2.1156, val loss: 2.1703\n",
      "step: 800, train loss: 2.0766, val loss: 2.1878\n",
      "step: 900, train loss: 2.0629, val loss: 2.1545\n",
      "step: 1000, train loss: 2.0497, val loss: 2.1005\n",
      "step: 1100, train loss: 2.0016, val loss: 2.0775\n",
      "step: 1200, train loss: 2.0073, val loss: 2.0563\n",
      "step: 1300, train loss: 1.9739, val loss: 2.0493\n",
      "step: 1400, train loss: 1.9522, val loss: 2.0317\n",
      "step: 1500, train loss: 1.9195, val loss: 1.9786\n",
      "step: 1600, train loss: 1.9478, val loss: 2.0117\n",
      "step: 1700, train loss: 1.9316, val loss: 2.0015\n",
      "step: 1800, train loss: 1.9114, val loss: 2.0037\n",
      "step: 1900, train loss: 1.9165, val loss: 2.0368\n",
      "step: 2000, train loss: 1.8870, val loss: 1.9682\n",
      "step: 2100, train loss: 1.8763, val loss: 1.9502\n",
      "step: 2200, train loss: 1.8837, val loss: 1.9646\n",
      "step: 2300, train loss: 1.8796, val loss: 1.9514\n",
      "step: 2400, train loss: 1.8480, val loss: 1.9596\n",
      "step: 2500, train loss: 1.8673, val loss: 1.9740\n",
      "step: 2600, train loss: 1.8271, val loss: 1.9320\n",
      "step: 2700, train loss: 1.8549, val loss: 1.9579\n",
      "step: 2800, train loss: 1.8423, val loss: 1.9425\n",
      "step: 2900, train loss: 1.8417, val loss: 1.9250\n",
      "1.6134378910064697\n"
     ]
    }
   ],
   "source": [
    "# create a PyTorch Optimizer\n",
    "optimizer = torch.optim.AdamW(model.parameters(), lr=learning_rate)\n",
    "\n",
    "for iter in range(max_iters):\n",
    "    if iter % eval_iters == 0:\n",
    "        losses = estimate_loss()\n",
    "        print(f\"step: {iter}, train loss: {losses['train']:.4f}, val loss: {losses['val']:.4f}\")\n",
    "    # sample a batch of data\n",
    "    xb, yb = get_batch(\"train\")\n",
    "    \n",
    "    # evaluate the loss\n",
    "    logits, loss = m.forward(xb, yb)\n",
    "    optimizer.zero_grad(set_to_none=True)\n",
    "    loss.backward()\n",
    "    optimizer.step()\n",
    "    \n",
    "print(loss.item())"
   ]
  },
  {
   "cell_type": "code",
   "execution_count": 21,
   "id": "72305b2b",
   "metadata": {},
   "outputs": [
    {
     "name": "stdout",
     "output_type": "stream",
     "text": [
      "\n",
      "with whith oullernonothily e ay ple\n",
      "imavind d fumboup utt hit t bory ne\n",
      "shinoup s d h ole, d mar\n",
      "rin\n"
     ]
    }
   ],
   "source": [
    "context = torch.zeros((1,1), dtype=torch.long, device=device)\n",
    "generated_chars = decode(m.generate(context, max_new_tokens=100)[0].tolist())\n",
    "print(generated_chars)"
   ]
  },
  {
   "cell_type": "code",
   "execution_count": 24,
   "id": "54753336",
   "metadata": {},
   "outputs": [
    {
     "name": "stdout",
     "output_type": "stream",
     "text": [
      "Hey girlefoosesm?\" finche e t ed slomed lasleche t,\" w, me wan tid inifuse fley D\"Cheshonoup ousthesinos an \n"
     ]
    }
   ],
   "source": [
    "prompt = 'Hey girl'\n",
    "context = torch.tensor(encode(prompt), dtype=torch.long, device=device)\n",
    "generated_chars = decode(m.generate(context.unsqueeze(0), max_new_tokens=100)[0].tolist())\n",
    "print(generated_chars)"
   ]
  },
  {
   "cell_type": "code",
   "execution_count": null,
   "id": "aa715ace",
   "metadata": {},
   "outputs": [],
   "source": []
  },
  {
   "cell_type": "code",
   "execution_count": null,
   "id": "a1490577",
   "metadata": {},
   "outputs": [],
   "source": []
  }
 ],
 "metadata": {
  "kernelspec": {
   "display_name": "GPT",
   "language": "python",
   "name": "gpt"
  },
  "language_info": {
   "codemirror_mode": {
    "name": "ipython",
    "version": 3
   },
   "file_extension": ".py",
   "mimetype": "text/x-python",
   "name": "python",
   "nbconvert_exporter": "python",
   "pygments_lexer": "ipython3",
   "version": "3.11.6"
  }
 },
 "nbformat": 4,
 "nbformat_minor": 5
}
