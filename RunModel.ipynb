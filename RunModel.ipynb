{
 "cells": [
  {
   "cell_type": "code",
   "execution_count": 1,
   "id": "90bb258d-8f44-4f6b-aa80-12aa23259fb7",
   "metadata": {},
   "outputs": [],
   "source": [
    "import torch\n",
    "import torch.nn as nn\n",
    "from torch.nn import functional as F\n",
    "import time\n",
    "import numpy as np\n",
    "import mmap\n",
    "import random\n",
    "import pickle\n",
    "import argparse"
   ]
  },
  {
   "cell_type": "code",
   "execution_count": 2,
   "id": "f4154c0b-ef01-46a9-8b81-49df20b6d47e",
   "metadata": {},
   "outputs": [
    {
     "name": "stdout",
     "output_type": "stream",
     "text": [
      "mps\n"
     ]
    }
   ],
   "source": [
    "device = torch.device(\"mps\")\n",
    "print(device)"
   ]
  },
  {
   "cell_type": "code",
   "execution_count": 4,
   "id": "444c5e82-4c27-4d4d-84f5-22fd09ed3764",
   "metadata": {},
   "outputs": [],
   "source": [
    "chars = \"\"\n",
    "with open('openwebtext/vocab.txt', 'r', encoding='utf-8') as f:\n",
    "    text = f.read()\n",
    "    chars = sorted(set(text))\n",
    "    \n",
    "vocab_size = len(chars)"
   ]
  },
  {
   "cell_type": "code",
   "execution_count": null,
   "id": "f04bafdb-3902-4b9a-941e-7920dceca283",
   "metadata": {},
   "outputs": [],
   "source": []
  },
  {
   "cell_type": "code",
   "execution_count": 6,
   "id": "1b732b6b-2718-4301-89f1-2281960a3ec0",
   "metadata": {},
   "outputs": [
    {
     "name": "stdout",
     "output_type": "stream",
     "text": [
      "Using device: mps\n",
      "Loading model parameters...\n",
      "Model loaded successfully!\n",
      "Prompt: The devil \n",
      "Generated text:\n",
      "The devil  \u0000\u0000hI\u0000\u0000\u0000\u0000\u0000uf\u0000k-\u0000\u0000P W[).Y \u0000\u0000n Lጳnv Q u\u0000 Tm  N\u0000   I分e5.e ae.E eue0.\u00000d\u0000DC\n",
      "\u0000N Qe  Re1 u\u0000\u0000\u0000Y\u0000 Xa\u0000w Iнe\u0000w s\u0000fMm JRE\u0000\u0000\u0000\u0000,TE\u0000AWl   \u0000i  peR\u0000s\n",
      "KLh y TS\u0000\u0000\u0000 sw\u0000 \n"
     ]
    }
   ],
   "source": [
    "import torch\n",
    "import pickle\n",
    "\n",
    "# Ensure all required class definitions are included before loading the model\n",
    "class Head(torch.nn.Module):\n",
    "    \"\"\" One head of self-attention \"\"\"\n",
    "    def __init__(self, head_size):\n",
    "        super().__init__()\n",
    "        self.key = torch.nn.Linear(n_embd, head_size, bias=False)\n",
    "        self.query = torch.nn.Linear(n_embd, head_size, bias=False)\n",
    "        self.value = torch.nn.Linear(n_embd, head_size, bias=False)\n",
    "        self.register_buffer('tril', torch.tril(torch.ones(block_size, block_size)))\n",
    "        self.dropout = torch.nn.Dropout(dropout)\n",
    "\n",
    "    def forward(self, x):\n",
    "        B, T, C = x.shape\n",
    "        k = self.key(x)\n",
    "        q = self.query(x)\n",
    "        wei = q @ k.transpose(-2, -1) * k.shape[-1] ** -0.5\n",
    "        tril_mask = torch.tril(torch.ones(T, T, device=x.device))\n",
    "        wei = wei.masked_fill(tril_mask == 0, float('-inf'))\n",
    "        wei = torch.nn.functional.softmax(wei, dim=-1)\n",
    "        wei = self.dropout(wei)\n",
    "        v = self.value(x)\n",
    "        return wei @ v\n",
    "\n",
    "class MultiHeadAttention(torch.nn.Module):\n",
    "    \"\"\" Multiple heads of self-attention \"\"\"\n",
    "    def __init__(self, num_heads, head_size):\n",
    "        super().__init__()\n",
    "        self.heads = torch.nn.ModuleList([Head(head_size) for _ in range(num_heads)])\n",
    "        self.proj = torch.nn.Linear(head_size * num_heads, n_embd)\n",
    "        self.dropout = torch.nn.Dropout(dropout)\n",
    "\n",
    "    def forward(self, x):\n",
    "        out = torch.cat([h(x) for h in self.heads], dim=-1)\n",
    "        return self.dropout(self.proj(out))\n",
    "\n",
    "class FeedForward(torch.nn.Module):\n",
    "    \"\"\" A simple linear layer followed by a non-linearity \"\"\"\n",
    "    def __init__(self, n_embd):\n",
    "        super().__init__()\n",
    "        self.net = torch.nn.Sequential(\n",
    "            torch.nn.Linear(n_embd, 4 * n_embd),\n",
    "            torch.nn.ReLU(),\n",
    "            torch.nn.Linear(4 * n_embd, n_embd),\n",
    "            torch.nn.Dropout(dropout)\n",
    "        )\n",
    "\n",
    "    def forward(self, x):\n",
    "        return self.net(x)\n",
    "\n",
    "class Block(torch.nn.Module):\n",
    "    \"\"\" Transformer block \"\"\"\n",
    "    def __init__(self, n_embd, n_head):\n",
    "        super().__init__()\n",
    "        head_size = n_embd // n_head\n",
    "        self.sa = MultiHeadAttention(n_head, head_size)\n",
    "        self.ffwd = FeedForward(n_embd)\n",
    "        self.ln1 = torch.nn.LayerNorm(n_embd)\n",
    "        self.ln2 = torch.nn.LayerNorm(n_embd)\n",
    "\n",
    "    def forward(self, x):\n",
    "        x = x + self.sa(self.ln1(x))\n",
    "        x = x + self.ffwd(self.ln2(x))\n",
    "        return x\n",
    "\n",
    "class GPTLanguageModel(torch.nn.Module):\n",
    "    \"\"\" A GPT-style language model \"\"\"\n",
    "    def __init__(self, vocab_size):\n",
    "        super().__init__()\n",
    "        self.token_embedding_table = torch.nn.Embedding(vocab_size, n_embd)\n",
    "        self.position_embedding_table = torch.nn.Embedding(block_size, n_embd)\n",
    "        self.blocks = torch.nn.Sequential(*[Block(n_embd, n_head) for _ in range(n_layer)])\n",
    "        self.ln_f = torch.nn.LayerNorm(n_embd)\n",
    "        self.lm_head = torch.nn.Linear(n_embd, vocab_size)\n",
    "        self.apply(self._init_weights)\n",
    "\n",
    "    def _init_weights(self, module):\n",
    "        if isinstance(module, torch.nn.Linear):\n",
    "            torch.nn.init.normal_(module.weight, mean=0.0, std=0.02)\n",
    "            if module.bias is not None:\n",
    "                torch.nn.init.zeros_(module.bias)\n",
    "        elif isinstance(module, torch.nn.Embedding):\n",
    "            torch.nn.init.normal_(module.weight, mean=0.0, std=0.02)\n",
    "\n",
    "    def forward(self, index, targets=None):\n",
    "        B, T = index.shape\n",
    "        tok_emb = self.token_embedding_table(index)\n",
    "        pos_emb = self.position_embedding_table(torch.arange(T, device=index.device))\n",
    "        x = tok_emb + pos_emb\n",
    "        x = self.blocks(x)\n",
    "        x = self.ln_f(x)\n",
    "        logits = self.lm_head(x)\n",
    "        if targets is None:\n",
    "            return logits, None\n",
    "        B, T, C = logits.shape\n",
    "        logits = logits.view(B * T, C)\n",
    "        targets = targets.view(B * T)\n",
    "        loss = torch.nn.functional.cross_entropy(logits, targets)\n",
    "        return logits, loss\n",
    "\n",
    "    def generate(self, index, max_new_tokens):\n",
    "        for _ in range(max_new_tokens):\n",
    "            logits, _ = self(index)\n",
    "            logits = logits[:, -1, :]\n",
    "            probs = torch.nn.functional.softmax(logits, dim=-1)\n",
    "            index_next = torch.multinomial(probs, num_samples=1)\n",
    "            index = torch.cat((index, index_next), dim=1)\n",
    "        return index\n",
    "\n",
    "# Load hyperparameters\n",
    "block_size = 128\n",
    "n_embd = 384\n",
    "n_layer = 8\n",
    "n_head = 8\n",
    "dropout = 0.2\n",
    "\n",
    "# Device configuration\n",
    "device = torch.device(\"mps\")\n",
    "print(f\"Using device: {device}\")\n",
    "\n",
    "# Load model\n",
    "print('Loading model parameters...')\n",
    "with open('model-01-20000.pkl', 'rb') as f:\n",
    "    model = pickle.load(f)\n",
    "print('Model loaded successfully!')\n",
    "\n",
    "# Move the model to the appropriate device\n",
    "model = model.to(device)\n",
    "\n",
    "# Load tokenizer\n",
    "chars = \"\"\n",
    "with open('openwebtext/vocab.txt', 'r', encoding='utf-8') as f:\n",
    "    chars = sorted(set(f.read()))\n",
    "string_to_int = {ch: i for i, ch in enumerate(chars)}\n",
    "int_to_string = {i: ch for i, ch in enumerate(chars)}\n",
    "encode = lambda s: [string_to_int[c] for c in s]\n",
    "decode = lambda l: ''.join([int_to_string[i] for i in l])"
   ]
  },
  {
   "cell_type": "code",
   "execution_count": 9,
   "id": "5d3a26b2-8c02-4164-8158-b7e8e05b7b9a",
   "metadata": {},
   "outputs": [
    {
     "name": "stdout",
     "output_type": "stream",
     "text": [
      "Prompt: The devil \n",
      "Generated text:\n",
      "The devil \u0000clvR\u0000\u0000.\u0000 “T– \u0000n”Ie6F \u0000\u0000Ini\u0000\u0000v I% \u0000x\u0000 zh o  en u  y\u0000vL\u0000sRv E %,oR𝗹0i [ 0\u0000X7 nB47,0euWcrRd VhoAEEt 6e?oL\u0000p\u0000i\u0000e\u0000\u0000а\u0000\n",
      "\u0000\u0000\u0000\u0000F E\n",
      " ti\u0000\u0000  y iTei?\u0000O\u0000Ie. ”\u0000\n",
      "r \u0000 \n"
     ]
    }
   ],
   "source": [
    "# Generate text\n",
    "prompt = \"The devil \"\n",
    "context = torch.tensor(encode(prompt), dtype=torch.long, device=device)\n",
    "generated_text = decode(model.generate(context.unsqueeze(0), max_new_tokens=150)[0].tolist())\n",
    "print(f\"Prompt: {prompt}\")\n",
    "print(\"Generated text:\")\n",
    "print(generated_text)"
   ]
  },
  {
   "cell_type": "code",
   "execution_count": 12,
   "id": "8b95f214-1ea1-499d-9b07-915048fe0bad",
   "metadata": {},
   "outputs": [
    {
     "name": "stdout",
     "output_type": "stream",
     "text": [
      "Loading model parameters...\n",
      "Model loaded successfully!\n"
     ]
    }
   ],
   "source": [
    "import torch\n",
    "import pickle\n",
    "\n",
    "# Define model hyperparameters (must match training)\n",
    "block_size = 128\n",
    "n_embd = 384\n",
    "n_layer = 8\n",
    "n_head = 8\n",
    "dropout = 0.2\n",
    "\n",
    "# Device configuration\n",
    "device = torch.device(\"mps\")\n",
    "\n",
    "# Define tokenizer\n",
    "chars = \"\"\n",
    "with open('openwebtext/vocab.txt', 'r', encoding='utf-8') as f:\n",
    "    chars = sorted(set(f.read()))\n",
    "string_to_int = {ch: i for i, ch in enumerate(chars)}\n",
    "int_to_string = {i: ch for i, ch in enumerate(chars)}\n",
    "encode = lambda s: [string_to_int[c] for c in s]\n",
    "decode = lambda l: ''.join([int_to_string[i] for i in l])\n",
    "\n",
    "# Load model\n",
    "print('Loading model parameters...')\n",
    "with open('model-01-20000.pkl', 'rb') as f:\n",
    "    model = pickle.load(f)\n",
    "print('Model loaded successfully!')\n",
    "\n",
    "# Move model to device and set evaluation mode\n",
    "model = model.to(device)\n",
    "model.eval()\n",
    "\n",
    "# Text generation with temperature\n",
    "def generate_text(prompt, max_new_tokens=150, temperature=1.0):\n",
    "    context = torch.tensor(encode(prompt), dtype=torch.long, device=device)\n",
    "    for _ in range(max_new_tokens):\n",
    "        logits, _ = model(context.unsqueeze(0))  # Add batch dimension\n",
    "        logits = logits[:, -1, :] / temperature  # Focus on the last time step\n",
    "        probs = torch.nn.functional.softmax(logits, dim=-1)\n",
    "        next_token = torch.multinomial(probs, num_samples=1)  # (1, 1)\n",
    "        next_token = next_token.squeeze(0)  # Remove batch dimension, shape becomes (1,)\n",
    "        context = torch.cat((context, next_token), dim=0)  # Concatenate along time dimension\n",
    "    return decode(context.tolist())"
   ]
  },
  {
   "cell_type": "code",
   "execution_count": 13,
   "id": "883375e5-86da-4e9e-9114-5c16fe758164",
   "metadata": {},
   "outputs": [
    {
     "name": "stdout",
     "output_type": "stream",
     "text": [
      "Generated text:\n",
      "The devil  T n\u0000.eanp. I n4e Rc[… M\u0000y  I  ,Den  B   Kn  eeS\u0000.n 3\u0000     3e1r m H\u0000u \u0000B\u0000ui e    lC, \u0000 c[e.e01 fs\u0000 \u0000\u0000aJ\u0000\u0000nν-e \u0000\u0000\n",
      "\u0000i\u0000\u0000\u0000и\u0000 \u0000 \u0000Ke\u00000 G ,Ti.\u0000o It  4    \u0000h \n"
     ]
    }
   ],
   "source": [
    "# Generate text\n",
    "prompt = \"The devil \"\n",
    "generated_text = generate_text(prompt)\n",
    "print(\"Generated text:\")\n",
    "print(generated_text)"
   ]
  },
  {
   "cell_type": "code",
   "execution_count": null,
   "id": "2c85e6db-4f64-4dae-8f83-bcabc24f0e79",
   "metadata": {},
   "outputs": [],
   "source": []
  },
  {
   "cell_type": "code",
   "execution_count": null,
   "id": "8548ad21-dfa4-4f47-8c3f-1dd70d819bda",
   "metadata": {},
   "outputs": [],
   "source": []
  },
  {
   "cell_type": "code",
   "execution_count": null,
   "id": "3d84826a-4f4a-4599-a125-d8285c8e1cf2",
   "metadata": {},
   "outputs": [],
   "source": []
  },
  {
   "cell_type": "code",
   "execution_count": 14,
   "id": "8fc9f45c-9c44-41fc-ae30-4f7b432aad8c",
   "metadata": {},
   "outputs": [],
   "source": [
    "chars = \"\"\n",
    "with open('openwebtext/vocab.txt', 'r', encoding='utf-8') as f:\n",
    "    text = f.read()\n",
    "    chars = sorted(set(text))\n",
    "    \n",
    "vocab_size = len(chars)"
   ]
  },
  {
   "cell_type": "code",
   "execution_count": 15,
   "id": "d59d7746-a1d0-46d2-9ea8-7181f31f4a57",
   "metadata": {},
   "outputs": [
    {
     "data": {
      "text/plain": [
       "32172"
      ]
     },
     "execution_count": 15,
     "metadata": {},
     "output_type": "execute_result"
    }
   ],
   "source": [
    "vocab_size"
   ]
  },
  {
   "cell_type": "code",
   "execution_count": 16,
   "id": "9ea86904-5db6-44fb-b434-a97319ac7a71",
   "metadata": {},
   "outputs": [],
   "source": [
    "string_to_int = {ch:i for i, ch in enumerate(chars)}\n",
    "int_to_string = {i:ch for i, ch in enumerate(chars)}\n",
    "\n",
    "# encoding-decoding tokenizer (character level)\n",
    "encode = lambda s: [string_to_int[c] for c in s]\n",
    "decode = lambda l: ''.join([int_to_string[i] for i in l])"
   ]
  },
  {
   "cell_type": "code",
   "execution_count": 17,
   "id": "aa148f62-6758-4b3b-aab9-66edfc9216b1",
   "metadata": {},
   "outputs": [
    {
     "data": {
      "text/plain": [
       "<function __main__.<lambda>(s)>"
      ]
     },
     "execution_count": 17,
     "metadata": {},
     "output_type": "execute_result"
    }
   ],
   "source": [
    "encode"
   ]
  },
  {
   "cell_type": "code",
   "execution_count": null,
   "id": "a4ad35b0-c65b-4cc1-bf99-7508b6337288",
   "metadata": {},
   "outputs": [],
   "source": []
  }
 ],
 "metadata": {
  "kernelspec": {
   "display_name": "Python 3 (ipykernel)",
   "language": "python",
   "name": "python3"
  },
  "language_info": {
   "codemirror_mode": {
    "name": "ipython",
    "version": 3
   },
   "file_extension": ".py",
   "mimetype": "text/x-python",
   "name": "python",
   "nbconvert_exporter": "python",
   "pygments_lexer": "ipython3",
   "version": "3.11.10"
  }
 },
 "nbformat": 4,
 "nbformat_minor": 5
}
